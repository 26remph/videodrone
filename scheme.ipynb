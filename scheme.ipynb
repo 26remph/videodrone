{
 "cells": [
  {
   "cell_type": "code",
   "execution_count": null,
   "id": "initial_id",
   "metadata": {
    "collapsed": true
   },
   "outputs": [],
   "source": [
    ""
   ]
  },
  {
   "metadata": {},
   "cell_type": "markdown",
   "source": [
    "        \n",
    "[Оператор] (команды)  -> [Командный центр]\n",
    "           <- (телемерия)\n",
    "           \n",
    "[Командный центр] {\n",
    "    [Модуль обработки команд]\n",
    "    [Аутентификация]\n",
    "    [Интерфейс]\n",
    "    [База данных]\n",
    "    [Логирование]\n",
    "    [Тесты]\n",
    "}\n",
    "\n",
    "[Модуль обработки команд] -> [Менеджер дронов] -> [API-адаптеры] -> [Модуль обработки команд дрона] -> [Дроны]\n",
    "       \n",
    "Максимум\n",
    "\n",
    "\n",
    "[Оператор] -> [Командный центр] { [Интерфейс], [Модуль обработки команд] } -> [API-адаптеры] -> [Дрон]\n",
    "\n",
    "минимум\n",
    "\n",
    "Дрон\n"
   ],
   "id": "d82aea5db20ce263"
  }
 ],
 "metadata": {
  "kernelspec": {
   "display_name": "Python 3",
   "language": "python",
   "name": "python3"
  },
  "language_info": {
   "codemirror_mode": {
    "name": "ipython",
    "version": 2
   },
   "file_extension": ".py",
   "mimetype": "text/x-python",
   "name": "python",
   "nbconvert_exporter": "python",
   "pygments_lexer": "ipython2",
   "version": "2.7.6"
  }
 },
 "nbformat": 4,
 "nbformat_minor": 5
}
